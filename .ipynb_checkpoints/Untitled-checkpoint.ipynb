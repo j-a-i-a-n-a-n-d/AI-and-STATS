{
 "cells": [
  {
   "cell_type": "code",
   "execution_count": 21,
   "id": "372e6b6b",
   "metadata": {},
   "outputs": [
    {
     "name": "stdout",
     "output_type": "stream",
     "text": [
      "[10, 22, 33, 11, 22, 33, 44, 5, 33, 44, 77, 88, 11, 22]\n"
     ]
    },
    {
     "data": {
      "text/plain": [
       "32.5"
      ]
     },
     "execution_count": 21,
     "metadata": {},
     "output_type": "execute_result"
    }
   ],
   "source": [
    "import statistics as st\n",
    "kush =[10,22,33,11,22,33,44,5,33,44,77,88,11,22]\n",
    "print(kush)\n",
    "st.mean(kush)"
   ]
  },
  {
   "cell_type": "code",
   "execution_count": 18,
   "id": "baeaa1fe",
   "metadata": {},
   "outputs": [
    {
     "data": {
      "text/plain": [
       "27.5"
      ]
     },
     "execution_count": 18,
     "metadata": {},
     "output_type": "execute_result"
    }
   ],
   "source": [
    "st.median(kush)"
   ]
  },
  {
   "cell_type": "code",
   "execution_count": 22,
   "id": "64e2da36",
   "metadata": {},
   "outputs": [
    {
     "data": {
      "text/plain": [
       "22"
      ]
     },
     "execution_count": 22,
     "metadata": {},
     "output_type": "execute_result"
    }
   ],
   "source": [
    "st.mode(kush)"
   ]
  },
  {
   "cell_type": "code",
   "execution_count": 23,
   "id": "d97fc0a2",
   "metadata": {},
   "outputs": [
    {
     "data": {
      "text/plain": [
       "24.563105541566884"
      ]
     },
     "execution_count": 23,
     "metadata": {},
     "output_type": "execute_result"
    }
   ],
   "source": [
    "st.stdev(kush)"
   ]
  },
  {
   "cell_type": "code",
   "execution_count": 25,
   "id": "fe0c8d97",
   "metadata": {},
   "outputs": [
    {
     "data": {
      "text/plain": [
       "603.3461538461538"
      ]
     },
     "execution_count": 25,
     "metadata": {},
     "output_type": "execute_result"
    }
   ],
   "source": [
    "st.variance(kush)"
   ]
  },
  {
   "cell_type": "code",
   "execution_count": 26,
   "id": "52e08de5",
   "metadata": {},
   "outputs": [
    {
     "name": "stdout",
     "output_type": "stream",
     "text": [
      "603.3461538461538\n"
     ]
    }
   ],
   "source": [
    "print(24.563105541566884*24.563105541566884)"
   ]
  },
  {
   "cell_type": "code",
   "execution_count": null,
   "id": "ea47704a",
   "metadata": {},
   "outputs": [],
   "source": []
  }
 ],
 "metadata": {
  "kernelspec": {
   "display_name": "Python 3 (ipykernel)",
   "language": "python",
   "name": "python3"
  },
  "language_info": {
   "codemirror_mode": {
    "name": "ipython",
    "version": 3
   },
   "file_extension": ".py",
   "mimetype": "text/x-python",
   "name": "python",
   "nbconvert_exporter": "python",
   "pygments_lexer": "ipython3",
   "version": "3.9.6"
  }
 },
 "nbformat": 4,
 "nbformat_minor": 5
}
